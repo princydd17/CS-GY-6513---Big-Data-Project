{
 "cells": [
  {
   "cell_type": "code",
   "execution_count": null,
   "metadata": {},
   "outputs": [],
   "source": [
    "from pyspark.sql import SparkSession\n",
    "import glob\n",
    "import numpy as np\n",
    "import pandas as pd\n",
    "import os\n",
    "import concurrent.futures\n",
    "from tqdm import tqdm"
   ]
  },
  {
   "cell_type": "code",
   "execution_count": null,
   "metadata": {},
   "outputs": [],
   "source": [
    "#Set Environment accordingly\n",
    "os.environ['JAVA_HOME'] = \"/Library/Java/JavaVirtualMachines/adoptopenjdk-8.jdk/Contents/Home/\"\n",
    "os.environ['SPARK_HOME'] = \"/Users/simran/Downloads/spark-3.5.5-bin-hadoop3/\""
   ]
  },
  {
   "cell_type": "code",
   "execution_count": null,
   "metadata": {},
   "outputs": [],
   "source": [
    "!wget \"https://huggingface.co/datasets/Zihan1004/FNSPID/resolve/main/Stock_price/full_history.zip\"\n",
    "!unzip \"./full_history.zip\" -d \"./\""
   ]
  },
  {
   "cell_type": "code",
   "execution_count": null,
   "metadata": {},
   "outputs": [],
   "source": [
    "directory_path = \"./full_history\"\n",
    "file_pattern = \"*.csv\""
   ]
  },
  {
   "cell_type": "code",
   "execution_count": null,
   "metadata": {},
   "outputs": [],
   "source": [
    "#Preprocess Data before reading to Spark\n",
    "desired_order = ['date','volume','open','high','low','close','adj close']\n",
    "new_order = ['date','volume','open','high','low','close','adj close','StockName']\n",
    "def amendCSV(filename):\n",
    "  df = pd.read_csv(filename, usecols=desired_order)\n",
    "  stockName = filename\n",
    "  df['StockName'] = stockName.split(\"/\")[-1].split(\".csv\")[0]  # Add filename column\n",
    "  df.to_csv(filename,index=False,columns=new_order)\n",
    "  return 1\n",
    "\n",
    "all_files = glob.glob(os.path.join(directory_path, file_pattern), recursive=True)\n",
    "with concurrent.futures.ThreadPoolExecutor(max_workers=10) as executor:\n",
    "  result = list(tqdm(executor.map(amendCSV, all_files), total = len(all_files)))\n",
    "print('All done.')"
   ]
  }
 ],
 "metadata": {
  "language_info": {
   "name": "python"
  },
  "orig_nbformat": 4
 },
 "nbformat": 4,
 "nbformat_minor": 2
}

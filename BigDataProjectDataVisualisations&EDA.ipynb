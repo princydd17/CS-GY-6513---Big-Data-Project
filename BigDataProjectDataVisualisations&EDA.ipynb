{
 "cells": [
  {
   "cell_type": "code",
   "execution_count": 17,
   "metadata": {
    "id": "y1-bVkYqpi1G"
   },
   "outputs": [],
   "source": [
    "# from pyspark.sql import SparkSession\n",
    "import glob\n",
    "import numpy as np\n",
    "import pandas as pd\n",
    "import os\n",
    "import concurrent.futures\n",
    "from tqdm import tqdm\n",
    "import matplotlib.pyplot as plt"
   ]
  },
  {
   "cell_type": "code",
   "execution_count": 18,
   "metadata": {},
   "outputs": [],
   "source": [
    "#Set Environment accordingly\n",
    "os.environ['JAVA_HOME'] = \"/Library/Java/JavaVirtualMachines/adoptopenjdk-8.jdk/Contents/Home/\"\n",
    "os.environ['SPARK_HOME'] = \"/Users/simran/Downloads/spark-3.5.5-bin-hadoop3/\""
   ]
  },
  {
   "cell_type": "code",
   "execution_count": 19,
   "metadata": {},
   "outputs": [],
   "source": [
    "directory_path = \"./data/full_history\"\n",
    "file_pattern = \"*.csv\""
   ]
  },
  {
   "cell_type": "code",
   "execution_count": 4,
   "metadata": {},
   "outputs": [
    {
     "name": "stderr",
     "output_type": "stream",
     "text": [
      "25/05/03 14:17:30 WARN Utils: Your hostname, Simrans-MacBook-Pro.local resolves to a loopback address: 127.0.0.1; using 192.168.1.222 instead (on interface en0)\n",
      "25/05/03 14:17:30 WARN Utils: Set SPARK_LOCAL_IP if you need to bind to another address\n",
      "Setting default log level to \"WARN\".\n",
      "To adjust logging level use sc.setLogLevel(newLevel). For SparkR, use setLogLevel(newLevel).\n",
      "25/05/03 14:17:31 WARN NativeCodeLoader: Unable to load native-hadoop library for your platform... using builtin-java classes where applicable\n"
     ]
    }
   ],
   "source": [
    "\n",
    "# Initialize Spark Session\n",
    "spark = SparkSession.builder \\\n",
    "    .appName(\"BigDataProject1\") \\\n",
    "    .config(\"spark.driver.bindAddress\", \"127.0.0.1\") \\\n",
    "    .config(\"spark.executor.memory\", \"12g\") \\\n",
    "    .config(\"spark.driver.memory\", \"15g\") \\\n",
    "    .config(\"spark.driver.maxResultSize\", \"4g\") \\\n",
    "    .config(\"spark.memory.offHeap.enabled\", True) \\\n",
    "    .config(\"spark.memory.offHeap.size\", \"20g\") \\\n",
    "    .config(\"spark.default.parallelism\", \"100\") \\\n",
    "    .config(\"spark.sql.shuffle.partitions\", \"200\") \\\n",
    "    .config(\"spark.executor.extraJavaOptions\", \"-XX:+UseG1GC\") \\\n",
    "    .config(\"spark.serializer\", \"org.apache.spark.serializer.JavaSerializer\") \\\n",
    "    .getOrCreate()\n"
   ]
  },
  {
   "cell_type": "code",
   "execution_count": 5,
   "metadata": {},
   "outputs": [],
   "source": [
    "from pyspark.sql.types import StructType, StructField, StringType, DoubleType, DateType\n",
    "\n",
    "schema = StructType([\n",
    "    StructField(\"date\", DateType(), True),\n",
    "    StructField(\"volume\", DoubleType(), True),  \n",
    "    StructField(\"open\", DoubleType(), True),\n",
    "    StructField(\"high\", DoubleType(), True),\n",
    "    StructField(\"low\", DoubleType(), True),\n",
    "    StructField(\"close\", DoubleType(), True),\n",
    "    StructField(\"adj close\", DoubleType(), True),\n",
    "    StructField(\"StockName\", StringType(), True)\n",
    "])"
   ]
  },
  {
   "cell_type": "code",
   "execution_count": 6,
   "metadata": {},
   "outputs": [
    {
     "name": "stderr",
     "output_type": "stream",
     "text": [
      "                                                                                \r"
     ]
    },
    {
     "name": "stdout",
     "output_type": "stream",
     "text": [
      "+----------+-------+-----------------+------------------+------------------+------------------+------------------+---------+\n",
      "|      date| volume|             open|              high|               low|             close|         adj close|StockName|\n",
      "+----------+-------+-----------------+------------------+------------------+------------------+------------------+---------+\n",
      "|2023-12-28|5703600|30.14999961853028|30.239999771118164|29.950000762939453| 30.18000030517578| 30.18000030517578|      HPQ|\n",
      "|2023-12-27|5127900|30.39999961853028|30.520000457763672|30.209999084472656|30.239999771118164|30.239999771118164|      HPQ|\n",
      "|2023-12-26|4853600|30.13999938964844|30.549999237060547|30.059999465942383| 30.40999984741211| 30.40999984741211|      HPQ|\n",
      "|2023-12-22|4476400|30.21999931335449|30.479999542236328| 30.06999969482422| 30.18000030517578| 30.18000030517578|      HPQ|\n",
      "|2023-12-21|6529200|30.07999992370605| 30.21999931335449| 29.90999984741211| 30.13999938964844| 30.13999938964844|      HPQ|\n",
      "+----------+-------+-----------------+------------------+------------------+------------------+------------------+---------+\n",
      "only showing top 5 rows\n",
      "\n"
     ]
    }
   ],
   "source": [
    "# Load datasets as DataFrames\n",
    "history_df = spark.read.format(\"csv\") \\\n",
    "     .option(\"header\", \"true\") \\\n",
    "     .option(\"treatEmptyValuesAsNulls\", \"true\") \\\n",
    "     .option(\"schema\",schema) \\\n",
    "     .load(f\"{directory_path}/{file_pattern}\")\n",
    "\n",
    "\n",
    "history_df.show(5)"
   ]
  },
  {
   "cell_type": "code",
   "execution_count": 7,
   "metadata": {},
   "outputs": [
    {
     "data": {
      "text/plain": [
       "DataFrame[date: string, volume: string, open: string, high: string, low: string, close: string, adj close: string, StockName: string]"
      ]
     },
     "execution_count": 7,
     "metadata": {},
     "output_type": "execute_result"
    }
   ],
   "source": [
    "# Remove duplicates\n",
    "history_df = history_df.dropDuplicates()\n",
    "\n",
    "# Handle missing values for both open and close simultaneously\n",
    "history_df = history_df.na.fill({\n",
    "    \"open\": np.nan,\n",
    "    \"close\": np.nan\n",
    "})\n",
    "history_df = history_df.replace(float('nan'), None)\n",
    "\n",
    "history_df.cache()\n"
   ]
  },
  {
   "cell_type": "code",
   "execution_count": 8,
   "metadata": {},
   "outputs": [
    {
     "name": "stderr",
     "output_type": "stream",
     "text": [
      "25/05/03 14:20:00 WARN SparkStringUtils: Truncated the string representation of a plan since it was too large. This behavior can be adjusted by setting 'spark.sql.debug.maxToStringFields'.\n",
      "                                                                                \r"
     ]
    },
    {
     "name": "stdout",
     "output_type": "stream",
     "text": [
      "+-------+----------+--------------------+--------+--------------------+--------------------+--------+--------------------+---------+\n",
      "|summary|      date|              volume|    open|                high|                 low|   close|           adj close|StockName|\n",
      "+-------+----------+--------------------+--------+--------------------+--------------------+--------+--------------------+---------+\n",
      "|  count|  29675300|            29675043|29675300|            29675043|            29675043|29675300|            29675043| 29675300|\n",
      "|   mean|      NULL|  1218955.7366696654|     NaN|1.538009260333542E10|1.469882232555163...|     NaN|-5.88525798081733...|      NaN|\n",
      "| stddev|      NULL|1.2938394989509307E7|     NaN|2.937609262009877...|2.811944953441444...|     NaN|9.950828002441017E18|      NaN|\n",
      "|    min|1962-01-02|                   0|       0|                 0.0|                 0.0|     0.0|                -0.0|        A|\n",
      "|    max|2023-12-28|            99999600|     NaN|              9999.0|              9999.0|     NaN|     9999.6787109375|     zumz|\n",
      "+-------+----------+--------------------+--------+--------------------+--------------------+--------+--------------------+---------+\n",
      "\n"
     ]
    }
   ],
   "source": [
    "history_df.describe().show()"
   ]
  },
  {
   "cell_type": "code",
   "execution_count": 9,
   "metadata": {},
   "outputs": [
    {
     "name": "stderr",
     "output_type": "stream",
     "text": [
      "                                                                                \r"
     ]
    },
    {
     "data": {
      "text/plain": [
       "29675300"
      ]
     },
     "execution_count": 9,
     "metadata": {},
     "output_type": "execute_result"
    }
   ],
   "source": [
    "history_df.count()\n"
   ]
  },
  {
   "cell_type": "code",
   "execution_count": 42,
   "metadata": {},
   "outputs": [],
   "source": [
    "#Convert Data to Pandas DataFrame to plot visualisations\n",
    "\n",
    "all_files = glob.glob(\"./data/full_history/*.csv\")\n",
    "\n",
    "history_df_pd = pd.concat((pd.read_csv(f) for f in all_files), ignore_index=True)\n",
    "\n"
   ]
  },
  {
   "cell_type": "code",
   "execution_count": 43,
   "metadata": {},
   "outputs": [
    {
     "data": {
      "text/html": [
       "<div>\n",
       "<style scoped>\n",
       "    .dataframe tbody tr th:only-of-type {\n",
       "        vertical-align: middle;\n",
       "    }\n",
       "\n",
       "    .dataframe tbody tr th {\n",
       "        vertical-align: top;\n",
       "    }\n",
       "\n",
       "    .dataframe thead th {\n",
       "        text-align: right;\n",
       "    }\n",
       "</style>\n",
       "<table border=\"1\" class=\"dataframe\">\n",
       "  <thead>\n",
       "    <tr style=\"text-align: right;\">\n",
       "      <th></th>\n",
       "      <th>date</th>\n",
       "      <th>volume</th>\n",
       "      <th>open</th>\n",
       "      <th>high</th>\n",
       "      <th>low</th>\n",
       "      <th>close</th>\n",
       "      <th>adj close</th>\n",
       "      <th>StockName</th>\n",
       "    </tr>\n",
       "  </thead>\n",
       "  <tbody>\n",
       "    <tr>\n",
       "      <th>0</th>\n",
       "      <td>2023-12-28</td>\n",
       "      <td>196100.0</td>\n",
       "      <td>11.06</td>\n",
       "      <td>11.100</td>\n",
       "      <td>10.930</td>\n",
       "      <td>11.00</td>\n",
       "      <td>11.00</td>\n",
       "      <td>RIV</td>\n",
       "    </tr>\n",
       "    <tr>\n",
       "      <th>1</th>\n",
       "      <td>2023-12-27</td>\n",
       "      <td>64900.0</td>\n",
       "      <td>11.09</td>\n",
       "      <td>11.150</td>\n",
       "      <td>11.090</td>\n",
       "      <td>11.11</td>\n",
       "      <td>11.11</td>\n",
       "      <td>RIV</td>\n",
       "    </tr>\n",
       "    <tr>\n",
       "      <th>2</th>\n",
       "      <td>2023-12-26</td>\n",
       "      <td>180600.0</td>\n",
       "      <td>11.13</td>\n",
       "      <td>11.149</td>\n",
       "      <td>10.975</td>\n",
       "      <td>11.13</td>\n",
       "      <td>11.13</td>\n",
       "      <td>RIV</td>\n",
       "    </tr>\n",
       "    <tr>\n",
       "      <th>3</th>\n",
       "      <td>2023-12-22</td>\n",
       "      <td>100700.0</td>\n",
       "      <td>11.15</td>\n",
       "      <td>11.200</td>\n",
       "      <td>11.110</td>\n",
       "      <td>11.12</td>\n",
       "      <td>11.12</td>\n",
       "      <td>RIV</td>\n",
       "    </tr>\n",
       "    <tr>\n",
       "      <th>4</th>\n",
       "      <td>2023-12-21</td>\n",
       "      <td>68400.0</td>\n",
       "      <td>11.32</td>\n",
       "      <td>11.320</td>\n",
       "      <td>11.140</td>\n",
       "      <td>11.19</td>\n",
       "      <td>11.19</td>\n",
       "      <td>RIV</td>\n",
       "    </tr>\n",
       "  </tbody>\n",
       "</table>\n",
       "</div>"
      ],
      "text/plain": [
       "         date    volume   open    high     low  close  adj close StockName\n",
       "0  2023-12-28  196100.0  11.06  11.100  10.930  11.00      11.00       RIV\n",
       "1  2023-12-27   64900.0  11.09  11.150  11.090  11.11      11.11       RIV\n",
       "2  2023-12-26  180600.0  11.13  11.149  10.975  11.13      11.13       RIV\n",
       "3  2023-12-22  100700.0  11.15  11.200  11.110  11.12      11.12       RIV\n",
       "4  2023-12-21   68400.0  11.32  11.320  11.140  11.19      11.19       RIV"
      ]
     },
     "execution_count": 43,
     "metadata": {},
     "output_type": "execute_result"
    }
   ],
   "source": [
    "history_df_pd.head()"
   ]
  },
  {
   "cell_type": "code",
   "execution_count": 49,
   "metadata": {},
   "outputs": [
    {
     "name": "stdout",
     "output_type": "stream",
     "text": [
      "object\n"
     ]
    }
   ],
   "source": [
    "print(history_df_pd['date'].dtype)"
   ]
  },
  {
   "cell_type": "code",
   "execution_count": 60,
   "metadata": {
    "id": "MOcxRdcQOZdN"
   },
   "outputs": [
    {
     "data": {
      "application/vnd.jupyter.widget-view+json": {
       "model_id": "cba4736eaff640779d7ce7f66a516735",
       "version_major": 2,
       "version_minor": 0
      },
      "text/plain": [
       "Dropdown(description='StockNames:', options=('A', 'AA', 'AAAU', 'AACG', 'AADR', 'AAL', 'AAMC', 'AAME', 'AAN', …"
      ]
     },
     "metadata": {},
     "output_type": "display_data"
    },
    {
     "data": {
      "application/vnd.jupyter.widget-view+json": {
       "model_id": "0ff440c9ad9d42e19b6405803a7a5e40",
       "version_major": 2,
       "version_minor": 0
      },
      "text/plain": [
       "FigureWidget({\n",
       "    'data': [], 'layout': {'template': '...'}\n",
       "})"
      ]
     },
     "metadata": {},
     "output_type": "display_data"
    }
   ],
   "source": [
    "#Data Visualisations\n",
    "\n",
    "#Time series visualisation given stock name\n",
    "\n",
    "# import matplotlib.pyplot as plt\n",
    "# import ipywidgets as widgets\n",
    "# import matplotlib.dates as mdate\n",
    "# from IPython.display import display\n",
    "\n",
    "\n",
    "# # Create the dropdown widget\n",
    "# dropdown = widgets.Dropdown(\n",
    "#     options=sorted(list(history_df_pd['StockName'].unique())),\n",
    "#     description='StockNames:'\n",
    "# )\n",
    "\n",
    "# # Function to update the plot based on dropdown selection\n",
    "# def update_plot(category):\n",
    "#     plt.clf() # Clear previous plot\n",
    "#     filtered_df = history_df_pd[history_df_pd['StockName'] == category]\n",
    "#     filtered_df.loc[:,'date'] = pd.to_datetime(filtered_df['date'])\n",
    "#     # Plotting closing prices for a single stock\n",
    "#     sorted_filtered_df = filtered_df.sort_values(by='date')\n",
    "#     plt.plot(sorted_filtered_df['date'], sorted_filtered_df['close'])\n",
    "#     plt.title(f'Plot for {category}')\n",
    "#     plt.xlabel('Time')\n",
    "#     plt.ylabel('Price')\n",
    "#     locator = mdate.YearLocator()\n",
    "#     plt.gca().xaxis.set_major_locator(locator)\n",
    "\n",
    "#     plt.gcf().autofmt_xdate()\n",
    "\n",
    "\n",
    "# # Observe the dropdown value and update the plot\n",
    "# out = widgets.interactive_output(update_plot, {'category': dropdown})\n",
    "\n",
    "# # Display the dropdown and the initial plot\n",
    "\n",
    "# display(dropdown, out)\n",
    "\n",
    "import plotly.graph_objs as go\n",
    "import pandas as pd\n",
    "import ipywidgets as widgets\n",
    "from IPython.display import display\n",
    "\n",
    "# Assume history_df_pd is your DataFrame with columns: 'StockName', 'date', 'close'\n",
    "\n",
    "# Create the dropdown widget\n",
    "dropdown = widgets.Dropdown(\n",
    "    options=sorted(list(history_df_pd['StockName'].unique())),\n",
    "    description='StockNames:'\n",
    ")\n",
    "\n",
    "# Create a FigureWidget\n",
    "fig = go.FigureWidget()\n",
    "\n",
    "def update_plot(category):\n",
    "    filtered_df = history_df_pd[history_df_pd['StockName'] == category].copy()\n",
    "    filtered_df['date'] = pd.to_datetime(filtered_df['date'])\n",
    "    filtered_df = filtered_df.sort_values(by='date')\n",
    "    with fig.batch_update():\n",
    "        fig.data = []  # Clear previous traces\n",
    "        fig.add_scatter(x=filtered_df['date'].astype(dtype=str), y=filtered_df['close'], mode='lines', name = category)\n",
    "        fig.layout.title = f'Plot for {category}'\n",
    "        fig.layout.xaxis.title = 'Time'\n",
    "        fig.layout.yaxis.title = 'Price'\n",
    "        # fig.update_layout(xaxis_type='date')\n",
    "        # fig.update_xaxes(tickformat=\"%Y-%m-%d\")\n",
    "\n",
    "# Link the dropdown to the update function\n",
    "dropdown.observe(lambda change: update_plot(change['new']), names='value')\n",
    "\n",
    "# Display the dropdown and the plot\n",
    "display(dropdown, fig)\n",
    "\n",
    "# Initialize with the first option\n",
    "update_plot(dropdown.value)"
   ]
  },
  {
   "cell_type": "code",
   "execution_count": 61,
   "metadata": {},
   "outputs": [
    {
     "data": {
      "application/vnd.jupyter.widget-view+json": {
       "model_id": "00938e0ce48743df9c7a3b959ffc7edf",
       "version_major": 2,
       "version_minor": 0
      },
      "text/plain": [
       "Dropdown(description='StockNames:', options=('A', 'AA', 'AAAU', 'AACG', 'AADR', 'AAL', 'AAMC', 'AAME', 'AAN', …"
      ]
     },
     "metadata": {},
     "output_type": "display_data"
    },
    {
     "data": {
      "application/vnd.jupyter.widget-view+json": {
       "model_id": "458901f413d148e8beb9ce66ed660802",
       "version_major": 2,
       "version_minor": 0
      },
      "text/plain": [
       "FigureWidget({\n",
       "    'data': [], 'layout': {'template': '...'}\n",
       "})"
      ]
     },
     "metadata": {},
     "output_type": "display_data"
    }
   ],
   "source": [
    "#Data Visualisations\n",
    "\n",
    "#Moving Averages visualisation given stock name\n",
    "\n",
    "\n",
    "# Create the dropdown widget\n",
    "dropdown = widgets.Dropdown(\n",
    "    options=sorted(list(history_df_pd['StockName'].unique())),\n",
    "    description='StockNames:'\n",
    ")\n",
    "\n",
    "# Create Plotly FigureWidget\n",
    "fig = go.FigureWidget()\n",
    "\n",
    "def update_plot(category):\n",
    "    filtered_df = history_df_pd[history_df_pd['StockName'] == category].copy()\n",
    "    filtered_df['date'] = pd.to_datetime(filtered_df['date'])\n",
    "    filtered_df = filtered_df.sort_values(by='date')\n",
    "    filtered_df['ma100'] = filtered_df['close'].rolling(100).mean()\n",
    "    \n",
    "    with fig.batch_update():\n",
    "        fig.data = []  # Clear previous traces\n",
    "        fig.add_scatter(\n",
    "            x=filtered_df['date'].astype(dtype=str),\n",
    "            y=filtered_df['close'],\n",
    "            mode='lines',\n",
    "            name='Close Price',\n",
    "            line=dict(color='blue')\n",
    "        )\n",
    "        fig.add_scatter(\n",
    "            x=filtered_df['date'].astype(dtype=str),\n",
    "            y=filtered_df['ma100'],\n",
    "            mode='lines',\n",
    "            name='100-Day MA',\n",
    "            line=dict(color='red')\n",
    "        )\n",
    "        fig.layout.title = f\"{category} Price with 100-Day MA\"\n",
    "        fig.layout.xaxis.title = 'Date'\n",
    "        fig.layout.yaxis.title = 'Price'\n",
    "        # fig.layout.xaxis.tickformat = '%Y'\n",
    "        # fig.layout.xaxis.dtick = 'M12'\n",
    "\n",
    "def on_dropdown_change(change):\n",
    "    if change['type'] == 'change' and change['name'] == 'value':\n",
    "        update_plot(change['new'])\n",
    "\n",
    "dropdown.observe(on_dropdown_change, names='value')\n",
    "\n",
    "display(dropdown, fig)\n",
    "update_plot(dropdown.value)  # Show initial plot"
   ]
  },
  {
   "cell_type": "code",
   "execution_count": 62,
   "metadata": {},
   "outputs": [
    {
     "data": {
      "application/vnd.jupyter.widget-view+json": {
       "model_id": "f30c88d697e64820999d151e8de9c640",
       "version_major": 2,
       "version_minor": 0
      },
      "text/plain": [
       "Dropdown(description='Stock:', options=('A', 'AA', 'AAAU', 'AACG', 'AADR', 'AAL', 'AAMC', 'AAME', 'AAN', 'AAOI…"
      ]
     },
     "metadata": {},
     "output_type": "display_data"
    },
    {
     "data": {
      "application/vnd.jupyter.widget-view+json": {
       "model_id": "e49d7b39c9dc4fb5959601cd9c630e2e",
       "version_major": 2,
       "version_minor": 0
      },
      "text/plain": [
       "FigureWidget({\n",
       "    'data': [], 'layout': {'template': '...'}\n",
       "})"
      ]
     },
     "metadata": {},
     "output_type": "display_data"
    }
   ],
   "source": [
    "dropdown_ma = widgets.Dropdown(\n",
    "    options=sorted(list(history_df_pd['StockName'].unique())),\n",
    "    description='Stock:',\n",
    "    style={'description_width': 'initial'}\n",
    ")\n",
    "\n",
    "fig_ma = go.FigureWidget()\n",
    "\n",
    "def update_ma(stock):\n",
    "    stock_data = history_df_pd[history_df_pd['StockName'] == stock].copy()\n",
    "    stock_data['date'] = pd.to_datetime(stock_data['date'])\n",
    "    stock_data = stock_data.sort_values(by='date')\n",
    "    \n",
    "    # Calculate moving averages\n",
    "    stock_data['MA7'] = stock_data['close'].rolling(7).mean()\n",
    "    stock_data['MA21'] = stock_data['close'].rolling(21).mean()\n",
    "    \n",
    "    with fig_ma.batch_update():\n",
    "        fig_ma.data = []\n",
    "        fig_ma.add_trace(go.Scatter(\n",
    "            x=stock_data['date'].astype(dtype=str), \n",
    "            y=stock_data['close'], \n",
    "            mode='lines', \n",
    "            name='Close Price'\n",
    "        ))\n",
    "        fig_ma.add_trace(go.Scatter(\n",
    "            x=stock_data['date'].astype(dtype=str), \n",
    "            y=stock_data['MA7'], \n",
    "            mode='lines', \n",
    "            line=dict(dash='dot', color='orange'), \n",
    "            name='7-Day MA'\n",
    "        ))\n",
    "        fig_ma.add_trace(go.Scatter(\n",
    "            x=stock_data['date'].astype(dtype=str), \n",
    "            y=stock_data['MA21'], \n",
    "            mode='lines', \n",
    "            line=dict(dash='dash', color='green'), \n",
    "            name='21-Day MA'\n",
    "        ))\n",
    "        fig_ma.update_layout(\n",
    "            title=f'Price and Moving Averages - {stock}',\n",
    "            xaxis_title='Date',\n",
    "            yaxis_title='Price'\n",
    "        )\n",
    "\n",
    "dropdown_ma.observe(lambda change: update_ma(change['new']), names='value')\n",
    "display(dropdown_ma, fig_ma)\n",
    "update_ma(dropdown_ma.value)"
   ]
  },
  {
   "cell_type": "code",
   "execution_count": 24,
   "metadata": {},
   "outputs": [
    {
     "data": {
      "image/png": "[encoded data removed]",
      "text/plain": [
       "<Figure size 1000x600 with 2 Axes>"
      ]
     },
     "metadata": {},
     "output_type": "display_data"
    }
   ],
   "source": [
    "# Correlation Heatmap\n",
    "import seaborn as sns\n",
    "import matplotlib.pyplot as plt\n",
    "\n",
    "# Compute correlation matrix\n",
    "corr_matrix = history_df_pd[['open', 'high', 'low', 'close', 'adj close', 'volume']].corr()\n",
    "\n",
    "# Plot heatmap\n",
    "plt.figure(figsize=(10, 6))\n",
    "sns.heatmap(corr_matrix, annot=True, cmap='coolwarm', fmt=\".2f\")\n",
    "plt.title(\"Correlation Heatmap of Stock Features\")\n",
    "plt.show()\n"
   ]
  },
  {
   "cell_type": "code",
   "execution_count": 25,
   "metadata": {},
   "outputs": [
    {
     "data": {
      "image/png": "[encoded data removed]",
      "text/plain": [
       "<Figure size 1000x600 with 1 Axes>"
      ]
     },
     "metadata": {},
     "output_type": "display_data"
    }
   ],
   "source": [
    "#Daily Returns Distribution\n",
    "\n",
    "stock = 'AAPL'  # Replace with desired stock\n",
    "df = history_df_pd[history_df_pd['StockName'] == stock].copy()\n",
    "df = df.sort_values(by='date')\n",
    "df['daily_return'] = df['close'].pct_change()\n",
    "\n",
    "plt.figure(figsize=(10, 6))\n",
    "sns.histplot(df['daily_return'].dropna(), bins=100, kde=True, color='blue')\n",
    "plt.title(f\"Daily Return Distribution for {stock}\")\n",
    "plt.xlabel(\"Daily Return\")\n",
    "plt.ylabel(\"Frequency\")\n",
    "plt.grid(True)\n",
    "plt.show()\n"
   ]
  },
  {
   "cell_type": "code",
   "execution_count": 26,
   "metadata": {},
   "outputs": [
    {
     "name": "stderr",
     "output_type": "stream",
     "text": [
      "/var/folders/n5/73xqm37j4fd6v593l0bz13680000gn/T/ipykernel_40555/260791014.py:5: FutureWarning:\n",
      "\n",
      "The default fill_method='ffill' in SeriesGroupBy.pct_change is deprecated and will be removed in a future version. Either fill in any non-leading NA values prior to calling pct_change or specify 'fill_method=None' to not fill NA values.\n",
      "\n"
     ]
    },
    {
     "data": {
      "application/vnd.plotly.v1+json": {
       "config": {
        "plotlyServerURL": "https://plot.ly"
       },
       "data": [
        {
         "marker": {
          "color": "crimson"
         },
         "type": "bar",
         "x": [
          "VHI",
          "NET",
          "MEC",
          "GMBL",
          "PLC",
          "DTP",
          "PJT",
          "TMBR",
          "EFOI",
          "PTI"
         ],
         "y": {
          "bdata": "b9hmSWM53EC9qtvfaKPLQDg0YdHrUslAgMQAauJvwEDLDhmuYKe4QElm5QDEgbdACHUF4gYyt0A66Ggmaxe3QAgbVMycT6BA2DH5NiiCmkA=",
          "dtype": "f8"
         }
        }
       ],
       "layout": {
        "bargap": 0.3,
        "template": {
         "data": {
          "bar": [
           {
            "error_x": {
             "color": "#2a3f5f"
            },
            "error_y": {
             "color": "#2a3f5f"
            },
            "marker": {
             "line": {
              "color": "#E5ECF6",
              "width": 0.5
             },
             "pattern": {
              "fillmode": "overlay",
              "size": 10,
              "solidity": 0.2
             }
            },
            "type": "bar"
           }
          ],
          "barpolar": [
           {
            "marker": {
             "line": {
              "color": "#E5ECF6",
              "width": 0.5
             },
             "pattern": {
              "fillmode": "overlay",
              "size": 10,
              "solidity": 0.2
             }
            },
            "type": "barpolar"
           }
          ],
          "carpet": [
           {
            "aaxis": {
             "endlinecolor": "#2a3f5f",
             "gridcolor": "white",
             "linecolor": "white",
             "minorgridcolor": "white",
             "startlinecolor": "#2a3f5f"
            },
            "baxis": {
             "endlinecolor": "#2a3f5f",
             "gridcolor": "white",
             "linecolor": "white",
             "minorgridcolor": "white",
             "startlinecolor": "#2a3f5f"
            },
            "type": "carpet"
           }
          ],
          "choropleth": [
           {
            "colorbar": {
             "outlinewidth": 0,
             "ticks": ""
            },
            "type": "choropleth"
           }
          ],
          "contour": [
           {
            "colorbar": {
             "outlinewidth": 0,
             "ticks": ""
            },
            "colorscale": [
             [
              0,
              "#0d0887"
             ],
             [
              0.1111111111111111,
              "#46039f"
             ],
             [
              0.2222222222222222,
              "#7201a8"
             ],
             [
              0.3333333333333333,
              "#9c179e"
             ],
             [
              0.4444444444444444,
              "#bd3786"
             ],
             [
              0.5555555555555556,
              "#d8576b"
             ],
             [
              0.6666666666666666,
              "#ed7953"
             ],
             [
              0.7777777777777778,
              "#fb9f3a"
             ],
             [
              0.8888888888888888,
              "#fdca26"
             ],
             [
              1,
              "#f0f921"
             ]
            ],
            "type": "contour"
           }
          ],
          "contourcarpet": [
           {
            "colorbar": {
             "outlinewidth": 0,
             "ticks": ""
            },
            "type": "contourcarpet"
           }
          ],
          "heatmap": [
           {
            "colorbar": {
             "outlinewidth": 0,
             "ticks": ""
            },
            "colorscale": [
             [
              0,
              "#0d0887"
             ],
             [
              0.1111111111111111,
              "#46039f"
             ],
             [
              0.2222222222222222,
              "#7201a8"
             ],
             [
              0.3333333333333333,
              "#9c179e"
             ],
             [
              0.4444444444444444,
              "#bd3786"
             ],
             [
              0.5555555555555556,
              "#d8576b"
             ],
             [
              0.6666666666666666,
              "#ed7953"
             ],
             [
              0.7777777777777778,
              "#fb9f3a"
             ],
             [
              0.8888888888888888,
              "#fdca26"
             ],
             [
              1,
              "#f0f921"
             ]
            ],
            "type": "heatmap"
           }
          ],
          "histogram": [
           {
            "marker": {
             "pattern": {
              "fillmode": "overlay",
              "size": 10,
              "solidity": 0.2
             }
            },
            "type": "histogram"
           }
          ],
          "histogram2d": [
           {
            "colorbar": {
             "outlinewidth": 0,
             "ticks": ""
            },
            "colorscale": [
             [
              0,
              "#0d0887"
             ],
             [
              0.1111111111111111,
              "#46039f"
             ],
             [
              0.2222222222222222,
              "#7201a8"
             ],
             [
              0.3333333333333333,
              "#9c179e"
             ],
             [
              0.4444444444444444,
              "#bd3786"
             ],
             [
              0.5555555555555556,
              "#d8576b"
             ],
             [
              0.6666666666666666,
              "#ed7953"
             ],
             [
              0.7777777777777778,
              "#fb9f3a"
             ],
             [
              0.8888888888888888,
              "#fdca26"
             ],
             [
              1,
              "#f0f921"
             ]
            ],
            "type": "histogram2d"
           }
          ],
          "histogram2dcontour": [
           {
            "colorbar": {
             "outlinewidth": 0,
             "ticks": ""
            },
            "colorscale": [
             [
              0,
              "#0d0887"
             ],
             [
              0.1111111111111111,
              "#46039f"
             ],
             [
              0.2222222222222222,
              "#7201a8"
             ],
             [
              0.3333333333333333,
              "#9c179e"
             ],
             [
              0.4444444444444444,
              "#bd3786"
             ],
             [
              0.5555555555555556,
              "#d8576b"
             ],
             [
              0.6666666666666666,
              "#ed7953"
             ],
             [
              0.7777777777777778,
              "#fb9f3a"
             ],
             [
              0.8888888888888888,
              "#fdca26"
             ],
             [
              1,
              "#f0f921"
             ]
            ],
            "type": "histogram2dcontour"
           }
          ],
          "mesh3d": [
           {
            "colorbar": {
             "outlinewidth": 0,
             "ticks": ""
            },
            "type": "mesh3d"
           }
          ],
          "parcoords": [
           {
            "line": {
             "colorbar": {
              "outlinewidth": 0,
              "ticks": ""
             }
            },
            "type": "parcoords"
           }
          ],
          "pie": [
           {
            "automargin": true,
            "type": "pie"
           }
          ],
          "scatter": [
           {
            "fillpattern": {
             "fillmode": "overlay",
             "size": 10,
             "solidity": 0.2
            },
            "type": "scatter"
           }
          ],
          "scatter3d": [
           {
            "line": {
             "colorbar": {
              "outlinewidth": 0,
              "ticks": ""
             }
            },
            "marker": {
             "colorbar": {
              "outlinewidth": 0,
              "ticks": ""
             }
            },
            "type": "scatter3d"
           }
          ],
          "scattercarpet": [
           {
            "marker": {
             "colorbar": {
              "outlinewidth": 0,
              "ticks": ""
             }
            },
            "type": "scattercarpet"
           }
          ],
          "scattergeo": [
           {
            "marker": {
             "colorbar": {
              "outlinewidth": 0,
              "ticks": ""
             }
            },
            "type": "scattergeo"
           }
          ],
          "scattergl": [
           {
            "marker": {
             "colorbar": {
              "outlinewidth": 0,
              "ticks": ""
             }
            },
            "type": "scattergl"
           }
          ],
          "scattermap": [
           {
            "marker": {
             "colorbar": {
              "outlinewidth": 0,
              "ticks": ""
             }
            },
            "type": "scattermap"
           }
          ],
          "scattermapbox": [
           {
            "marker": {
             "colorbar": {
              "outlinewidth": 0,
              "ticks": ""
             }
            },
            "type": "scattermapbox"
           }
          ],
          "scatterpolar": [
           {
            "marker": {
             "colorbar": {
              "outlinewidth": 0,
              "ticks": ""
             }
            },
            "type": "scatterpolar"
           }
          ],
          "scatterpolargl": [
           {
            "marker": {
             "colorbar": {
              "outlinewidth": 0,
              "ticks": ""
             }
            },
            "type": "scatterpolargl"
           }
          ],
          "scatterternary": [
           {
            "marker": {
             "colorbar": {
              "outlinewidth": 0,
              "ticks": ""
             }
            },
            "type": "scatterternary"
           }
          ],
          "surface": [
           {
            "colorbar": {
             "outlinewidth": 0,
             "ticks": ""
            },
            "colorscale": [
             [
              0,
              "#0d0887"
             ],
             [
              0.1111111111111111,
              "#46039f"
             ],
             [
              0.2222222222222222,
              "#7201a8"
             ],
             [
              0.3333333333333333,
              "#9c179e"
             ],
             [
              0.4444444444444444,
              "#bd3786"
             ],
             [
              0.5555555555555556,
              "#d8576b"
             ],
             [
              0.6666666666666666,
              "#ed7953"
             ],
             [
              0.7777777777777778,
              "#fb9f3a"
             ],
             [
              0.8888888888888888,
              "#fdca26"
             ],
             [
              1,
              "#f0f921"
             ]
            ],
            "type": "surface"
           }
          ],
          "table": [
           {
            "cells": {
             "fill": {
              "color": "#EBF0F8"
             },
             "line": {
              "color": "white"
             }
            },
            "header": {
             "fill": {
              "color": "#C8D4E3"
             },
             "line": {
              "color": "white"
             }
            },
            "type": "table"
           }
          ]
         },
         "layout": {
          "annotationdefaults": {
           "arrowcolor": "#2a3f5f",
           "arrowhead": 0,
           "arrowwidth": 1
          },
          "autotypenumbers": "strict",
          "coloraxis": {
           "colorbar": {
            "outlinewidth": 0,
            "ticks": ""
           }
          },
          "colorscale": {
           "diverging": [
            [
             0,
             "#8e0152"
            ],
            [
             0.1,
             "#c51b7d"
            ],
            [
             0.2,
             "#de77ae"
            ],
            [
             0.3,
             "#f1b6da"
            ],
            [
             0.4,
             "#fde0ef"
            ],
            [
             0.5,
             "#f7f7f7"
            ],
            [
             0.6,
             "#e6f5d0"
            ],
            [
             0.7,
             "#b8e186"
            ],
            [
             0.8,
             "#7fbc41"
            ],
            [
             0.9,
             "#4d9221"
            ],
            [
             1,
             "#276419"
            ]
           ],
           "sequential": [
            [
             0,
             "#0d0887"
            ],
            [
             0.1111111111111111,
             "#46039f"
            ],
            [
             0.2222222222222222,
             "#7201a8"
            ],
            [
             0.3333333333333333,
             "#9c179e"
            ],
            [
             0.4444444444444444,
             "#bd3786"
            ],
            [
             0.5555555555555556,
             "#d8576b"
            ],
            [
             0.6666666666666666,
             "#ed7953"
            ],
            [
             0.7777777777777778,
             "#fb9f3a"
            ],
            [
             0.8888888888888888,
             "#fdca26"
            ],
            [
             1,
             "#f0f921"
            ]
           ],
           "sequentialminus": [
            [
             0,
             "#0d0887"
            ],
            [
             0.1111111111111111,
             "#46039f"
            ],
            [
             0.2222222222222222,
             "#7201a8"
            ],
            [
             0.3333333333333333,
             "#9c179e"
            ],
            [
             0.4444444444444444,
             "#bd3786"
            ],
            [
             0.5555555555555556,
             "#d8576b"
            ],
            [
             0.6666666666666666,
             "#ed7953"
            ],
            [
             0.7777777777777778,
             "#fb9f3a"
            ],
            [
             0.8888888888888888,
             "#fdca26"
            ],
            [
             1,
             "#f0f921"
            ]
           ]
          },
          "colorway": [
           "#636efa",
           "#EF553B",
           "#00cc96",
           "#ab63fa",
           "#FFA15A",
           "#19d3f3",
           "#FF6692",
           "#B6E880",
           "#FF97FF",
           "#FECB52"
          ],
          "font": {
           "color": "#2a3f5f"
          },
          "geo": {
           "bgcolor": "white",
           "lakecolor": "white",
           "landcolor": "#E5ECF6",
           "showlakes": true,
           "showland": true,
           "subunitcolor": "white"
          },
          "hoverlabel": {
           "align": "left"
          },
          "hovermode": "closest",
          "mapbox": {
           "style": "light"
          },
          "paper_bgcolor": "white",
          "plot_bgcolor": "#E5ECF6",
          "polar": {
           "angularaxis": {
            "gridcolor": "white",
            "linecolor": "white",
            "ticks": ""
           },
           "bgcolor": "#E5ECF6",
           "radialaxis": {
            "gridcolor": "white",
            "linecolor": "white",
            "ticks": ""
           }
          },
          "scene": {
           "xaxis": {
            "backgroundcolor": "#E5ECF6",
            "gridcolor": "white",
            "gridwidth": 2,
            "linecolor": "white",
            "showbackground": true,
            "ticks": "",
            "zerolinecolor": "white"
           },
           "yaxis": {
            "backgroundcolor": "#E5ECF6",
            "gridcolor": "white",
            "gridwidth": 2,
            "linecolor": "white",
            "showbackground": true,
            "ticks": "",
            "zerolinecolor": "white"
           },
           "zaxis": {
            "backgroundcolor": "#E5ECF6",
            "gridcolor": "white",
            "gridwidth": 2,
            "linecolor": "white",
            "showbackground": true,
            "ticks": "",
            "zerolinecolor": "white"
           }
          },
          "shapedefaults": {
           "line": {
            "color": "#2a3f5f"
           }
          },
          "ternary": {
           "aaxis": {
            "gridcolor": "white",
            "linecolor": "white",
            "ticks": ""
           },
           "baxis": {
            "gridcolor": "white",
            "linecolor": "white",
            "ticks": ""
           },
           "bgcolor": "#E5ECF6",
           "caxis": {
            "gridcolor": "white",
            "linecolor": "white",
            "ticks": ""
           }
          },
          "title": {
           "x": 0.05
          },
          "xaxis": {
           "automargin": true,
           "gridcolor": "white",
           "linecolor": "white",
           "ticks": "",
           "title": {
            "standoff": 15
           },
           "zerolinecolor": "white",
           "zerolinewidth": 2
          },
          "yaxis": {
           "automargin": true,
           "gridcolor": "white",
           "linecolor": "white",
           "ticks": "",
           "title": {
            "standoff": 15
           },
           "zerolinecolor": "white",
           "zerolinewidth": 2
          }
         }
        },
        "title": {
         "text": "Top 10 Most Volatile Stocks (Std Dev of Daily Returns)"
        },
        "xaxis": {
         "tickangle": 45,
         "title": {
          "text": "Stock"
         }
        },
        "yaxis": {
         "title": {
          "text": "Volatility"
         }
        }
       }
      }
     },
     "metadata": {},
     "output_type": "display_data"
    }
   ],
   "source": [
    "import plotly.graph_objs as go\n",
    "import pandas as pd\n",
    "\n",
    "df = history_df_pd.copy()\n",
    "df['daily_return'] = df.groupby('StockName')['close'].pct_change()\n",
    "volatility = df.groupby('StockName')['daily_return'].std().sort_values(ascending=False).head(10)\n",
    "\n",
    "fig = go.Figure(data=[\n",
    "    go.Bar(\n",
    "        x=volatility.index,\n",
    "        y=volatility.values,\n",
    "        marker_color='crimson'\n",
    "    )\n",
    "])\n",
    "fig.update_layout(\n",
    "    title=\"Top 10 Most Volatile Stocks (Std Dev of Daily Returns)\",\n",
    "    xaxis_title=\"Stock\",\n",
    "    yaxis_title=\"Volatility\",\n",
    "    xaxis_tickangle=45,\n",
    "    bargap=0.3\n",
    ")\n",
    "fig.show()\n"
   ]
  },
  {
   "cell_type": "code",
   "execution_count": 63,
   "metadata": {},
   "outputs": [
    {
     "data": {
      "application/vnd.jupyter.widget-view+json": {
       "model_id": "dda2e4a91f4d428382005e62a306fe38",
       "version_major": 2,
       "version_minor": 0
      },
      "text/plain": [
       "Dropdown(description='Stock:', options=('A', 'AA', 'AAAU', 'AACG', 'AADR', 'AAL', 'AAMC', 'AAME', 'AAN', 'AAOI…"
      ]
     },
     "metadata": {},
     "output_type": "display_data"
    },
    {
     "data": {
      "application/vnd.jupyter.widget-view+json": {
       "model_id": "1b13aff4abb147978005a0ba3432a6f3",
       "version_major": 2,
       "version_minor": 0
      },
      "text/plain": [
       "FigureWidget({\n",
       "    'data': [], 'layout': {'template': '...'}\n",
       "})"
      ]
     },
     "metadata": {},
     "output_type": "display_data"
    }
   ],
   "source": [
    "import plotly.graph_objs as go\n",
    "import ipywidgets as widgets\n",
    "from IPython.display import display\n",
    "\n",
    "# Create dropdown widget\n",
    "dropdown = widgets.Dropdown(\n",
    "    options=sorted(list(history_df_pd['StockName'].unique())),\n",
    "    description='Stock:',\n",
    "    style={'description_width': 'initial'}\n",
    ")\n",
    "\n",
    "# Create figure widget\n",
    "fig = go.FigureWidget()\n",
    "\n",
    "def update_candlestick(stock):\n",
    "    # Filter data for selected stock\n",
    "    stock_data = history_df_pd[history_df_pd['StockName'] == stock].copy()\n",
    "    stock_data['date'] = pd.to_datetime(stock_data['date'])\n",
    "    stock_data = stock_data.sort_values(by='date')\n",
    "    \n",
    "    with fig.batch_update():\n",
    "        fig.data = []  # Clear previous traces\n",
    "        fig.add_trace(go.Candlestick(\n",
    "            x=stock_data['date'].astype(dtype=str),\n",
    "            open=stock_data['open'],\n",
    "            high=stock_data['high'],\n",
    "            low=stock_data['low'],\n",
    "            close=stock_data['close'],\n",
    "            name=stock\n",
    "        ))\n",
    "        fig.update_layout(\n",
    "            title=f'Price Action and Market Sentiment - {stock}',\n",
    "            xaxis_title='Date',\n",
    "            yaxis_title='Price',\n",
    "            xaxis_rangeslider_visible=False\n",
    "        )\n",
    "\n",
    "# Link dropdown to update function\n",
    "dropdown.observe(lambda change: update_candlestick(change['new']), names='value')\n",
    "\n",
    "# Display dropdown and figure\n",
    "display(dropdown, fig)\n",
    "\n",
    "# Initialize with first stock\n",
    "update_candlestick(dropdown.value)\n"
   ]
  },
  {
   "cell_type": "code",
   "execution_count": 64,
   "metadata": {},
   "outputs": [
    {
     "name": "stderr",
     "output_type": "stream",
     "text": [
      "/var/folders/n5/73xqm37j4fd6v593l0bz13680000gn/T/ipykernel_40555/2577957069.py:1: FutureWarning:\n",
      "\n",
      "The default fill_method='ffill' in SeriesGroupBy.pct_change is deprecated and will be removed in a future version. Either fill in any non-leading NA values prior to calling pct_change or specify 'fill_method=None' to not fill NA values.\n",
      "\n"
     ]
    },
    {
     "data": {
      "application/vnd.jupyter.widget-view+json": {
       "model_id": "7118dd3b261f4260b4d14bb6317e14f7",
       "version_major": 2,
       "version_minor": 0
      },
      "text/plain": [
       "Dropdown(description='Stock:', options=('A', 'AA', 'AAAU', 'AACG', 'AADR', 'AAL', 'AAMC', 'AAME', 'AAN', 'AAOI…"
      ]
     },
     "metadata": {},
     "output_type": "display_data"
    },
    {
     "data": {
      "application/vnd.jupyter.widget-view+json": {
       "model_id": "4cf632a2319445c39bfa877adc05dccb",
       "version_major": 2,
       "version_minor": 0
      },
      "text/plain": [
       "FigureWidget({\n",
       "    'data': [], 'layout': {'template': '...'}\n",
       "})"
      ]
     },
     "metadata": {},
     "output_type": "display_data"
    }
   ],
   "source": [
    "history_df_pd['daily_return'] = history_df_pd.groupby('StockName')['close'].pct_change()\n",
    "\n",
    "dropdown_hist = widgets.Dropdown(\n",
    "    options=sorted(list(history_df_pd['StockName'].unique())),\n",
    "    description='Stock:',\n",
    "    style={'description_width': 'initial'}\n",
    ")\n",
    "\n",
    "fig_hist = go.FigureWidget()\n",
    "\n",
    "def update_histogram(stock):\n",
    "    stock_data = history_df_pd[history_df_pd['StockName'] == stock].copy()\n",
    "    stock_data = stock_data.dropna(subset=['daily_return'])\n",
    "    \n",
    "    with fig_hist.batch_update():\n",
    "        fig_hist.data = []\n",
    "        fig_hist.add_trace(go.Histogram(\n",
    "            x=stock_data['daily_return'],\n",
    "            nbinsx=20,\n",
    "            marker_color='green'\n",
    "        ))\n",
    "        fig_hist.update_layout(\n",
    "            title=f'Daily Returns Distribution - {stock}',\n",
    "            xaxis_title='Daily Return',\n",
    "            yaxis_title='Frequency'\n",
    "        )\n",
    "\n",
    "dropdown_hist.observe(lambda change: update_histogram(change['new']), names='value')\n",
    "display(dropdown_hist, fig_hist)\n",
    "update_histogram(dropdown_hist.value)"
   ]
  },
  {
   "cell_type": "code",
   "execution_count": null,
   "metadata": {},
   "outputs": [],
   "source": []
  }
 ],
 "metadata": {
  "colab": {
   "provenance": []
  },
  "kernelspec": {
   "display_name": "mlops",
   "language": "python",
   "name": "python3"
  },
  "language_info": {
   "codemirror_mode": {
    "name": "ipython",
    "version": 3
   },
   "file_extension": ".py",
   "mimetype": "text/x-python",
   "name": "python",
   "nbconvert_exporter": "python",
   "pygments_lexer": "ipython3",
   "version": "3.12.9"
  }
 },
 "nbformat": 4,
 "nbformat_minor": 0
}
